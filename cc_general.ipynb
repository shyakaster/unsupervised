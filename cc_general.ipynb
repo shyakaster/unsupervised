{
 "cells": [
  {
   "cell_type": "code",
   "execution_count": 1,
   "id": "66d36721-48f9-4450-a656-0477f90afd3d",
   "metadata": {},
   "outputs": [
    {
     "data": {
      "text/html": [
       "<div>\n",
       "<style scoped>\n",
       "    .dataframe tbody tr th:only-of-type {\n",
       "        vertical-align: middle;\n",
       "    }\n",
       "\n",
       "    .dataframe tbody tr th {\n",
       "        vertical-align: top;\n",
       "    }\n",
       "\n",
       "    .dataframe thead th {\n",
       "        text-align: right;\n",
       "    }\n",
       "</style>\n",
       "<table border=\"1\" class=\"dataframe\">\n",
       "  <thead>\n",
       "    <tr style=\"text-align: right;\">\n",
       "      <th></th>\n",
       "      <th>BALANCE</th>\n",
       "      <th>BALANCE_FREQUENCY</th>\n",
       "      <th>PURCHASES</th>\n",
       "      <th>ONEOFF_PURCHASES</th>\n",
       "      <th>INSTALLMENTS_PURCHASES</th>\n",
       "      <th>CASH_ADVANCE</th>\n",
       "      <th>PURCHASES_FREQUENCY</th>\n",
       "      <th>ONEOFF_PURCHASES_FREQUENCY</th>\n",
       "      <th>PURCHASES_INSTALLMENTS_FREQUENCY</th>\n",
       "      <th>CASH_ADVANCE_FREQUENCY</th>\n",
       "      <th>CASH_ADVANCE_TRX</th>\n",
       "      <th>PURCHASES_TRX</th>\n",
       "      <th>CREDIT_LIMIT</th>\n",
       "      <th>PAYMENTS</th>\n",
       "      <th>MINIMUM_PAYMENTS</th>\n",
       "      <th>PRC_FULL_PAYMENT</th>\n",
       "      <th>TENURE</th>\n",
       "    </tr>\n",
       "    <tr>\n",
       "      <th>CUST_ID</th>\n",
       "      <th></th>\n",
       "      <th></th>\n",
       "      <th></th>\n",
       "      <th></th>\n",
       "      <th></th>\n",
       "      <th></th>\n",
       "      <th></th>\n",
       "      <th></th>\n",
       "      <th></th>\n",
       "      <th></th>\n",
       "      <th></th>\n",
       "      <th></th>\n",
       "      <th></th>\n",
       "      <th></th>\n",
       "      <th></th>\n",
       "      <th></th>\n",
       "      <th></th>\n",
       "    </tr>\n",
       "  </thead>\n",
       "  <tbody>\n",
       "    <tr>\n",
       "      <th>C10001</th>\n",
       "      <td>40.900749</td>\n",
       "      <td>0.818182</td>\n",
       "      <td>95.40</td>\n",
       "      <td>0.00</td>\n",
       "      <td>95.4</td>\n",
       "      <td>0.000000</td>\n",
       "      <td>0.166667</td>\n",
       "      <td>0.000000</td>\n",
       "      <td>0.083333</td>\n",
       "      <td>0.000000</td>\n",
       "      <td>0</td>\n",
       "      <td>2</td>\n",
       "      <td>1000.0</td>\n",
       "      <td>201.802084</td>\n",
       "      <td>139.509787</td>\n",
       "      <td>0.000000</td>\n",
       "      <td>12</td>\n",
       "    </tr>\n",
       "    <tr>\n",
       "      <th>C10002</th>\n",
       "      <td>3202.467416</td>\n",
       "      <td>0.909091</td>\n",
       "      <td>0.00</td>\n",
       "      <td>0.00</td>\n",
       "      <td>0.0</td>\n",
       "      <td>6442.945483</td>\n",
       "      <td>0.000000</td>\n",
       "      <td>0.000000</td>\n",
       "      <td>0.000000</td>\n",
       "      <td>0.250000</td>\n",
       "      <td>4</td>\n",
       "      <td>0</td>\n",
       "      <td>7000.0</td>\n",
       "      <td>4103.032597</td>\n",
       "      <td>1072.340217</td>\n",
       "      <td>0.222222</td>\n",
       "      <td>12</td>\n",
       "    </tr>\n",
       "    <tr>\n",
       "      <th>C10003</th>\n",
       "      <td>2495.148862</td>\n",
       "      <td>1.000000</td>\n",
       "      <td>773.17</td>\n",
       "      <td>773.17</td>\n",
       "      <td>0.0</td>\n",
       "      <td>0.000000</td>\n",
       "      <td>1.000000</td>\n",
       "      <td>1.000000</td>\n",
       "      <td>0.000000</td>\n",
       "      <td>0.000000</td>\n",
       "      <td>0</td>\n",
       "      <td>12</td>\n",
       "      <td>7500.0</td>\n",
       "      <td>622.066742</td>\n",
       "      <td>627.284787</td>\n",
       "      <td>0.000000</td>\n",
       "      <td>12</td>\n",
       "    </tr>\n",
       "    <tr>\n",
       "      <th>C10004</th>\n",
       "      <td>1666.670542</td>\n",
       "      <td>0.636364</td>\n",
       "      <td>1499.00</td>\n",
       "      <td>1499.00</td>\n",
       "      <td>0.0</td>\n",
       "      <td>205.788017</td>\n",
       "      <td>0.083333</td>\n",
       "      <td>0.083333</td>\n",
       "      <td>0.000000</td>\n",
       "      <td>0.083333</td>\n",
       "      <td>1</td>\n",
       "      <td>1</td>\n",
       "      <td>7500.0</td>\n",
       "      <td>0.000000</td>\n",
       "      <td>NaN</td>\n",
       "      <td>0.000000</td>\n",
       "      <td>12</td>\n",
       "    </tr>\n",
       "    <tr>\n",
       "      <th>C10005</th>\n",
       "      <td>817.714335</td>\n",
       "      <td>1.000000</td>\n",
       "      <td>16.00</td>\n",
       "      <td>16.00</td>\n",
       "      <td>0.0</td>\n",
       "      <td>0.000000</td>\n",
       "      <td>0.083333</td>\n",
       "      <td>0.083333</td>\n",
       "      <td>0.000000</td>\n",
       "      <td>0.000000</td>\n",
       "      <td>0</td>\n",
       "      <td>1</td>\n",
       "      <td>1200.0</td>\n",
       "      <td>678.334763</td>\n",
       "      <td>244.791237</td>\n",
       "      <td>0.000000</td>\n",
       "      <td>12</td>\n",
       "    </tr>\n",
       "  </tbody>\n",
       "</table>\n",
       "</div>"
      ],
      "text/plain": [
       "             BALANCE  BALANCE_FREQUENCY  PURCHASES  ONEOFF_PURCHASES  \\\n",
       "CUST_ID                                                                \n",
       "C10001     40.900749           0.818182      95.40              0.00   \n",
       "C10002   3202.467416           0.909091       0.00              0.00   \n",
       "C10003   2495.148862           1.000000     773.17            773.17   \n",
       "C10004   1666.670542           0.636364    1499.00           1499.00   \n",
       "C10005    817.714335           1.000000      16.00             16.00   \n",
       "\n",
       "         INSTALLMENTS_PURCHASES  CASH_ADVANCE  PURCHASES_FREQUENCY  \\\n",
       "CUST_ID                                                              \n",
       "C10001                     95.4      0.000000             0.166667   \n",
       "C10002                      0.0   6442.945483             0.000000   \n",
       "C10003                      0.0      0.000000             1.000000   \n",
       "C10004                      0.0    205.788017             0.083333   \n",
       "C10005                      0.0      0.000000             0.083333   \n",
       "\n",
       "         ONEOFF_PURCHASES_FREQUENCY  PURCHASES_INSTALLMENTS_FREQUENCY  \\\n",
       "CUST_ID                                                                 \n",
       "C10001                     0.000000                          0.083333   \n",
       "C10002                     0.000000                          0.000000   \n",
       "C10003                     1.000000                          0.000000   \n",
       "C10004                     0.083333                          0.000000   \n",
       "C10005                     0.083333                          0.000000   \n",
       "\n",
       "         CASH_ADVANCE_FREQUENCY  CASH_ADVANCE_TRX  PURCHASES_TRX  \\\n",
       "CUST_ID                                                            \n",
       "C10001                 0.000000                 0              2   \n",
       "C10002                 0.250000                 4              0   \n",
       "C10003                 0.000000                 0             12   \n",
       "C10004                 0.083333                 1              1   \n",
       "C10005                 0.000000                 0              1   \n",
       "\n",
       "         CREDIT_LIMIT     PAYMENTS  MINIMUM_PAYMENTS  PRC_FULL_PAYMENT  TENURE  \n",
       "CUST_ID                                                                         \n",
       "C10001         1000.0   201.802084        139.509787          0.000000      12  \n",
       "C10002         7000.0  4103.032597       1072.340217          0.222222      12  \n",
       "C10003         7500.0   622.066742        627.284787          0.000000      12  \n",
       "C10004         7500.0     0.000000               NaN          0.000000      12  \n",
       "C10005         1200.0   678.334763        244.791237          0.000000      12  "
      ]
     },
     "execution_count": 1,
     "metadata": {},
     "output_type": "execute_result"
    }
   ],
   "source": [
    "import pandas as pd\n",
    "df = pd.read_csv('CC_GENERAL.csv',index_col='CUST_ID')\n",
    "df.head()"
   ]
  },
  {
   "cell_type": "markdown",
   "id": "2315dc21-61c1-4663-a4a1-01677821f289",
   "metadata": {},
   "source": [
    "## what is this dataset?\n",
    "\n",
    "source: kaggle\n",
    "\n",
    "describes the behavior of about 9000 credit holders over a period of 6 months.\n",
    "\n",
    "it includes 18 features."
   ]
  },
  {
   "cell_type": "markdown",
   "id": "43a58a46-4446-4a9a-aa50-3c072c650b9a",
   "metadata": {},
   "source": [
    "## what can we use this data for?\n",
    "\n",
    "\n",
    "- we can simply use this data to learn more about our customers...no specific objective rather than building our intuitions about customer behavior.\n",
    "- looking for anomolous behavior -- customers whose behavior is out of the ordinary (this is a modeling task, we'll have to specify a model)\n",
    "- clustering or segmenting customers based on their behavior\n",
    "- we can choose a variable of interest from among the 18 features - and model it as a function of other variables."
   ]
  },
  {
   "cell_type": "code",
   "execution_count": 2,
   "id": "26bd63f4-0149-4d41-b578-25f8d7e22077",
   "metadata": {},
   "outputs": [],
   "source": [
    "## let's cluster\n",
    "\n",
    "# first we start with some light eda\n",
    "\n",
    "# eda will probably uncover some data wrangling/data processing tasks\n",
    "\n",
    "# then we'll take a shot at clustering"
   ]
  },
  {
   "cell_type": "code",
   "execution_count": 7,
   "id": "41e2a757-d51e-4246-a047-693ba9699350",
   "metadata": {},
   "outputs": [
    {
     "data": {
      "text/plain": [
       "(8950, 17)"
      ]
     },
     "execution_count": 7,
     "metadata": {},
     "output_type": "execute_result"
    }
   ],
   "source": [
    "df.shape"
   ]
  },
  {
   "cell_type": "code",
   "execution_count": 8,
   "id": "a7d1206d-609e-416b-b280-4a585decc617",
   "metadata": {},
   "outputs": [
    {
     "name": "stdout",
     "output_type": "stream",
     "text": [
      "<class 'pandas.core.frame.DataFrame'>\n",
      "Index: 8950 entries, C10001 to C19190\n",
      "Data columns (total 17 columns):\n",
      " #   Column                            Non-Null Count  Dtype  \n",
      "---  ------                            --------------  -----  \n",
      " 0   BALANCE                           8950 non-null   float64\n",
      " 1   BALANCE_FREQUENCY                 8950 non-null   float64\n",
      " 2   PURCHASES                         8950 non-null   float64\n",
      " 3   ONEOFF_PURCHASES                  8950 non-null   float64\n",
      " 4   INSTALLMENTS_PURCHASES            8950 non-null   float64\n",
      " 5   CASH_ADVANCE                      8950 non-null   float64\n",
      " 6   PURCHASES_FREQUENCY               8950 non-null   float64\n",
      " 7   ONEOFF_PURCHASES_FREQUENCY        8950 non-null   float64\n",
      " 8   PURCHASES_INSTALLMENTS_FREQUENCY  8950 non-null   float64\n",
      " 9   CASH_ADVANCE_FREQUENCY            8950 non-null   float64\n",
      " 10  CASH_ADVANCE_TRX                  8950 non-null   int64  \n",
      " 11  PURCHASES_TRX                     8950 non-null   int64  \n",
      " 12  CREDIT_LIMIT                      8949 non-null   float64\n",
      " 13  PAYMENTS                          8950 non-null   float64\n",
      " 14  MINIMUM_PAYMENTS                  8637 non-null   float64\n",
      " 15  PRC_FULL_PAYMENT                  8950 non-null   float64\n",
      " 16  TENURE                            8950 non-null   int64  \n",
      "dtypes: float64(14), int64(3)\n",
      "memory usage: 1.2+ MB\n"
     ]
    }
   ],
   "source": [
    "df.info()"
   ]
  },
  {
   "cell_type": "code",
   "execution_count": 5,
   "id": "0c9fabfd-bf0a-4004-b254-7ccc4b2dbacb",
   "metadata": {},
   "outputs": [
    {
     "data": {
      "text/plain": [
       "True"
      ]
     },
     "execution_count": 5,
     "metadata": {},
     "output_type": "execute_result"
    }
   ],
   "source": [
    "# df['CUST_ID'].nunique() == df.shape[0]\n",
    "\n",
    "# above will throw an error after setting CUST_ID as index"
   ]
  },
  {
   "cell_type": "markdown",
   "id": "da24787b-bf5e-4334-a80e-723ca58cffb9",
   "metadata": {},
   "source": [
    "## impute null values"
   ]
  },
  {
   "cell_type": "code",
   "execution_count": 15,
   "id": "ccdeb1f6-64a3-46ff-841b-db2098d54a38",
   "metadata": {},
   "outputs": [
    {
     "data": {
      "text/plain": [
       "balance                               0\n",
       "balance_frequency                     0\n",
       "purchases                             0\n",
       "oneoff_purchases                      0\n",
       "installments_purchases                0\n",
       "cash_advance                          0\n",
       "purchases_frequency                   0\n",
       "oneoff_purchases_frequency            0\n",
       "purchases_installments_frequency      0\n",
       "cash_advance_frequency                0\n",
       "cash_advance_trx                      0\n",
       "purchases_trx                         0\n",
       "credit_limit                          1\n",
       "payments                              0\n",
       "minimum_payments                    313\n",
       "prc_full_payment                      0\n",
       "tenure                                0\n",
       "dtype: int64"
      ]
     },
     "execution_count": 15,
     "metadata": {},
     "output_type": "execute_result"
    }
   ],
   "source": [
    "df.isna().sum()"
   ]
  },
  {
   "cell_type": "code",
   "execution_count": 2,
   "id": "fe6c4ddc-e0f0-4848-a823-54fb517804f8",
   "metadata": {},
   "outputs": [],
   "source": [
    "df.columns = [col.lower() for col in df.columns]"
   ]
  },
  {
   "cell_type": "code",
   "execution_count": 17,
   "id": "3f696162-e2ee-412d-8313-a5237003c747",
   "metadata": {},
   "outputs": [
    {
     "data": {
      "text/html": [
       "<div>\n",
       "<style scoped>\n",
       "    .dataframe tbody tr th:only-of-type {\n",
       "        vertical-align: middle;\n",
       "    }\n",
       "\n",
       "    .dataframe tbody tr th {\n",
       "        vertical-align: top;\n",
       "    }\n",
       "\n",
       "    .dataframe thead th {\n",
       "        text-align: right;\n",
       "    }\n",
       "</style>\n",
       "<table border=\"1\" class=\"dataframe\">\n",
       "  <thead>\n",
       "    <tr style=\"text-align: right;\">\n",
       "      <th></th>\n",
       "      <th>balance</th>\n",
       "      <th>balance_frequency</th>\n",
       "      <th>purchases</th>\n",
       "      <th>oneoff_purchases</th>\n",
       "      <th>installments_purchases</th>\n",
       "      <th>cash_advance</th>\n",
       "      <th>purchases_frequency</th>\n",
       "      <th>oneoff_purchases_frequency</th>\n",
       "      <th>purchases_installments_frequency</th>\n",
       "      <th>cash_advance_frequency</th>\n",
       "      <th>cash_advance_trx</th>\n",
       "      <th>purchases_trx</th>\n",
       "      <th>credit_limit</th>\n",
       "      <th>payments</th>\n",
       "      <th>minimum_payments</th>\n",
       "      <th>prc_full_payment</th>\n",
       "      <th>tenure</th>\n",
       "    </tr>\n",
       "    <tr>\n",
       "      <th>CUST_ID</th>\n",
       "      <th></th>\n",
       "      <th></th>\n",
       "      <th></th>\n",
       "      <th></th>\n",
       "      <th></th>\n",
       "      <th></th>\n",
       "      <th></th>\n",
       "      <th></th>\n",
       "      <th></th>\n",
       "      <th></th>\n",
       "      <th></th>\n",
       "      <th></th>\n",
       "      <th></th>\n",
       "      <th></th>\n",
       "      <th></th>\n",
       "      <th></th>\n",
       "      <th></th>\n",
       "    </tr>\n",
       "  </thead>\n",
       "  <tbody>\n",
       "    <tr>\n",
       "      <th>C10004</th>\n",
       "      <td>1666.670542</td>\n",
       "      <td>0.636364</td>\n",
       "      <td>1499.0</td>\n",
       "      <td>1499.0</td>\n",
       "      <td>0.0</td>\n",
       "      <td>205.788017</td>\n",
       "      <td>0.083333</td>\n",
       "      <td>0.083333</td>\n",
       "      <td>0.000000</td>\n",
       "      <td>0.083333</td>\n",
       "      <td>1</td>\n",
       "      <td>1</td>\n",
       "      <td>7500.0</td>\n",
       "      <td>0.000000</td>\n",
       "      <td>NaN</td>\n",
       "      <td>0.0</td>\n",
       "      <td>12</td>\n",
       "    </tr>\n",
       "    <tr>\n",
       "      <th>C10047</th>\n",
       "      <td>2242.311686</td>\n",
       "      <td>1.000000</td>\n",
       "      <td>437.0</td>\n",
       "      <td>97.0</td>\n",
       "      <td>340.0</td>\n",
       "      <td>184.648692</td>\n",
       "      <td>0.333333</td>\n",
       "      <td>0.083333</td>\n",
       "      <td>0.333333</td>\n",
       "      <td>0.166667</td>\n",
       "      <td>2</td>\n",
       "      <td>5</td>\n",
       "      <td>2400.0</td>\n",
       "      <td>0.000000</td>\n",
       "      <td>NaN</td>\n",
       "      <td>0.0</td>\n",
       "      <td>12</td>\n",
       "    </tr>\n",
       "    <tr>\n",
       "      <th>C10049</th>\n",
       "      <td>3910.111237</td>\n",
       "      <td>1.000000</td>\n",
       "      <td>0.0</td>\n",
       "      <td>0.0</td>\n",
       "      <td>0.0</td>\n",
       "      <td>1980.873201</td>\n",
       "      <td>0.000000</td>\n",
       "      <td>0.000000</td>\n",
       "      <td>0.000000</td>\n",
       "      <td>0.500000</td>\n",
       "      <td>7</td>\n",
       "      <td>0</td>\n",
       "      <td>4200.0</td>\n",
       "      <td>0.000000</td>\n",
       "      <td>NaN</td>\n",
       "      <td>0.0</td>\n",
       "      <td>12</td>\n",
       "    </tr>\n",
       "    <tr>\n",
       "      <th>C10056</th>\n",
       "      <td>6.660517</td>\n",
       "      <td>0.636364</td>\n",
       "      <td>310.0</td>\n",
       "      <td>0.0</td>\n",
       "      <td>310.0</td>\n",
       "      <td>0.000000</td>\n",
       "      <td>0.666667</td>\n",
       "      <td>0.000000</td>\n",
       "      <td>0.666667</td>\n",
       "      <td>0.000000</td>\n",
       "      <td>0</td>\n",
       "      <td>8</td>\n",
       "      <td>1000.0</td>\n",
       "      <td>417.016763</td>\n",
       "      <td>NaN</td>\n",
       "      <td>0.0</td>\n",
       "      <td>12</td>\n",
       "    </tr>\n",
       "    <tr>\n",
       "      <th>C10057</th>\n",
       "      <td>1311.995984</td>\n",
       "      <td>1.000000</td>\n",
       "      <td>1283.9</td>\n",
       "      <td>1283.9</td>\n",
       "      <td>0.0</td>\n",
       "      <td>0.000000</td>\n",
       "      <td>0.250000</td>\n",
       "      <td>0.250000</td>\n",
       "      <td>0.000000</td>\n",
       "      <td>0.000000</td>\n",
       "      <td>0</td>\n",
       "      <td>6</td>\n",
       "      <td>6000.0</td>\n",
       "      <td>0.000000</td>\n",
       "      <td>NaN</td>\n",
       "      <td>0.0</td>\n",
       "      <td>12</td>\n",
       "    </tr>\n",
       "  </tbody>\n",
       "</table>\n",
       "</div>"
      ],
      "text/plain": [
       "             balance  balance_frequency  purchases  oneoff_purchases  \\\n",
       "CUST_ID                                                                \n",
       "C10004   1666.670542           0.636364     1499.0            1499.0   \n",
       "C10047   2242.311686           1.000000      437.0              97.0   \n",
       "C10049   3910.111237           1.000000        0.0               0.0   \n",
       "C10056      6.660517           0.636364      310.0               0.0   \n",
       "C10057   1311.995984           1.000000     1283.9            1283.9   \n",
       "\n",
       "         installments_purchases  cash_advance  purchases_frequency  \\\n",
       "CUST_ID                                                              \n",
       "C10004                      0.0    205.788017             0.083333   \n",
       "C10047                    340.0    184.648692             0.333333   \n",
       "C10049                      0.0   1980.873201             0.000000   \n",
       "C10056                    310.0      0.000000             0.666667   \n",
       "C10057                      0.0      0.000000             0.250000   \n",
       "\n",
       "         oneoff_purchases_frequency  purchases_installments_frequency  \\\n",
       "CUST_ID                                                                 \n",
       "C10004                     0.083333                          0.000000   \n",
       "C10047                     0.083333                          0.333333   \n",
       "C10049                     0.000000                          0.000000   \n",
       "C10056                     0.000000                          0.666667   \n",
       "C10057                     0.250000                          0.000000   \n",
       "\n",
       "         cash_advance_frequency  cash_advance_trx  purchases_trx  \\\n",
       "CUST_ID                                                            \n",
       "C10004                 0.083333                 1              1   \n",
       "C10047                 0.166667                 2              5   \n",
       "C10049                 0.500000                 7              0   \n",
       "C10056                 0.000000                 0              8   \n",
       "C10057                 0.000000                 0              6   \n",
       "\n",
       "         credit_limit    payments  minimum_payments  prc_full_payment  tenure  \n",
       "CUST_ID                                                                        \n",
       "C10004         7500.0    0.000000               NaN               0.0      12  \n",
       "C10047         2400.0    0.000000               NaN               0.0      12  \n",
       "C10049         4200.0    0.000000               NaN               0.0      12  \n",
       "C10056         1000.0  417.016763               NaN               0.0      12  \n",
       "C10057         6000.0    0.000000               NaN               0.0      12  "
      ]
     },
     "execution_count": 17,
     "metadata": {},
     "output_type": "execute_result"
    }
   ],
   "source": [
    "# visual inspection of obs with missing minimum payments\n",
    "df.loc[df['minimum_payments'].isna(),:].head()"
   ]
  },
  {
   "cell_type": "code",
   "execution_count": 3,
   "id": "c45f37ec-1a5f-44f7-a127-8b1fa56cb189",
   "metadata": {},
   "outputs": [],
   "source": [
    "import matplotlib.pyplot as plt"
   ]
  },
  {
   "cell_type": "code",
   "execution_count": 4,
   "id": "f8cf8e47-2729-4eb5-a9e7-c4b53dddfa8c",
   "metadata": {},
   "outputs": [
    {
     "data": {
      "image/png": "[encoded data removed]",
      "text/plain": [
       "<Figure size 640x480 with 1 Axes>"
      ]
     },
     "metadata": {},
     "output_type": "display_data"
    }
   ],
   "source": [
    "plt.plot()\n",
    "plt.hist(df.loc[df['minimum_payments'].isna(),'payments'])\n",
    "plt.show()\n"
   ]
  },
  {
   "cell_type": "code",
   "execution_count": 5,
   "id": "25e32403-f5c9-4e3b-b715-27deed78f660",
   "metadata": {},
   "outputs": [
    {
     "data": {
      "text/plain": [
       "0.7667731629392971"
      ]
     },
     "execution_count": 5,
     "metadata": {},
     "output_type": "execute_result"
    }
   ],
   "source": [
    "mask = (df['minimum_payments'].isna()) & (df['payments'] == 0)\n",
    "df.loc[mask,:].shape[0]/313"
   ]
  },
  {
   "cell_type": "code",
   "execution_count": null,
   "id": "4425464f-19be-40df-8572-15c804c90a87",
   "metadata": {},
   "outputs": [],
   "source": [
    "# i think there's a connection between having a missing min payment and a payments of 0"
   ]
  },
  {
   "cell_type": "code",
   "execution_count": null,
   "id": "ef202008-ca2a-4a6b-a5ad-ae3d472db4ab",
   "metadata": {},
   "outputs": [],
   "source": [
    "# we're going to impute min payments and we can take a number of different approaches\n",
    "\n",
    "# just take the average or median of min payment data that we do have, and impute using that\n",
    "# throw away the rows with missing data (reluctant to do that here)\n",
    "# model based imputation (from very simple to very complex)"
   ]
  },
  {
   "cell_type": "code",
   "execution_count": null,
   "id": "80005076-6f24-4274-afa3-05aa989961c6",
   "metadata": {},
   "outputs": [],
   "source": [
    "# constant of proportionality\n",
    "# 1. find another one of the features that is highly correlated with min payments (e.g. \"payments\")\n",
    "# 2. take the ratio of avg(min payments)/avg(payments) = C\n",
    "# 3. and let missing min payments be defined as payments*C\n",
    "\n",
    "# payments*C = min payments\n",
    "# C = min payments / payments \n",
    "# baby linear regression\n",
    "\n",
    "# you can of course actually do a regression and impute using that"
   ]
  },
  {
   "cell_type": "code",
   "execution_count": 6,
   "id": "d10fb3e0-2e4e-44fd-a435-42ad539dd2d5",
   "metadata": {},
   "outputs": [
    {
     "data": {
      "text/plain": [
       "minimum_payments                    1.000000\n",
       "balance                             0.398684\n",
       "cash_advance                        0.140107\n",
       "balance_frequency                   0.132569\n",
       "installments_purchases              0.132172\n",
       "credit_limit                        0.126671\n",
       "payments                            0.126651\n",
       "cash_advance_trx                    0.109739\n",
       "cash_advance_frequency              0.098838\n",
       "purchases_trx                       0.096333\n",
       "purchases                           0.093860\n",
       "tenure                              0.059444\n",
       "oneoff_purchases                    0.048755\n",
       "purchases_installments_frequency    0.030073\n",
       "purchases_frequency                 0.003030\n",
       "oneoff_purchases_frequency         -0.030327\n",
       "prc_full_payment                   -0.140379\n",
       "Name: minimum_payments, dtype: float64"
      ]
     },
     "execution_count": 6,
     "metadata": {},
     "output_type": "execute_result"
    }
   ],
   "source": [
    "df.corr()['minimum_payments'].sort_values(ascending = False)"
   ]
  },
  {
   "cell_type": "code",
   "execution_count": 7,
   "id": "0f638bc8-3993-438b-89e0-a5d06adfd2d9",
   "metadata": {},
   "outputs": [
    {
     "name": "stdout",
     "output_type": "stream",
     "text": [
      "306.822465338347 864.2065423050828\n"
     ]
    }
   ],
   "source": [
    "# constant of proportionality between balance and min payments\n",
    "# avg(min payments)/avg(balance)\n",
    "C = df['minimum_payments'].mean()/df['balance'].mean()\n",
    "imputed_min_payments = C*df.loc[df['minimum_payments'].isna(),'balance']\n",
    "print(imputed_min_payments.mean(), df['minimum_payments'].mean())"
   ]
  },
  {
   "cell_type": "code",
   "execution_count": 8,
   "id": "fdfcaa17-80ec-4243-b0b5-3b6ce8035bac",
   "metadata": {},
   "outputs": [],
   "source": [
    "# very quickly - let's try to impute with linear regression\n",
    "\n",
    "from sklearn.linear_model import LinearRegression"
   ]
  },
  {
   "cell_type": "code",
   "execution_count": 9,
   "id": "4d69e1af-845e-49bb-ae28-32d02cb30a81",
   "metadata": {},
   "outputs": [
    {
     "name": "stderr",
     "output_type": "stream",
     "text": [
      "/var/folders/g7/wg003dgd7td2scfxtm9wznth0000gn/T/ipykernel_79197/3282811061.py:2: SettingWithCopyWarning: \n",
      "A value is trying to be set on a copy of a slice from a DataFrame\n",
      "\n",
      "See the caveats in the documentation: https://pandas.pydata.org/pandas-docs/stable/user_guide/indexing.html#returning-a-view-versus-a-copy\n",
      "  predictors.dropna(inplace=True)\n",
      "/var/folders/g7/wg003dgd7td2scfxtm9wznth0000gn/T/ipykernel_79197/3282811061.py:4: SettingWithCopyWarning: \n",
      "A value is trying to be set on a copy of a slice from a DataFrame\n",
      "\n",
      "See the caveats in the documentation: https://pandas.pydata.org/pandas-docs/stable/user_guide/indexing.html#returning-a-view-versus-a-copy\n",
      "  predictors.drop(columns = ['minimum_payments'],inplace = True)\n"
     ]
    }
   ],
   "source": [
    "\n",
    "predictors = df.loc[~df['minimum_payments'].isna(),:]\n",
    "predictors.dropna(inplace=True)\n",
    "target = predictors['minimum_payments']\n",
    "predictors.drop(columns = ['minimum_payments'],inplace = True)"
   ]
  },
  {
   "cell_type": "code",
   "execution_count": 10,
   "id": "db43902a-a1f4-41ba-bade-fbecf0fc52b7",
   "metadata": {},
   "outputs": [
    {
     "data": {
      "text/plain": [
       "True"
      ]
     },
     "execution_count": 10,
     "metadata": {},
     "output_type": "execute_result"
    }
   ],
   "source": [
    "predictors.shape[0] == target.shape[0]"
   ]
  },
  {
   "cell_type": "code",
   "execution_count": null,
   "id": "d60b96b7-acdd-405c-9c28-9df33edc5ea7",
   "metadata": {},
   "outputs": [],
   "source": [
    "# before i make the model\n",
    "# how do we know if the model is any good?\n",
    "# do you guys know model evaluation for linear regression?\n",
    "# R squared is one way\n",
    "# briefly\n",
    "# \"percentage of the variance explained\"\n",
    "# \"how much better is your model compared to the dummy model of always predicting the mean\"\n",
    "# 864 is the mean minimum payments\n",
    "# naive model - always predict 864 regardless of other information you have\n",
    "# interpretation - r2 0 is like always predicting the mean - and the closer you get to r2 of 1, is how much better you are than the mean"
   ]
  },
  {
   "cell_type": "code",
   "execution_count": 11,
   "id": "9fef7fd8-be5a-471d-be33-82e0fb7ba713",
   "metadata": {},
   "outputs": [
    {
     "data": {
      "text/plain": [
       "0.19672360257016308"
      ]
     },
     "execution_count": 11,
     "metadata": {},
     "output_type": "execute_result"
    }
   ],
   "source": [
    "lm1 = LinearRegression()\n",
    "lm1.fit(predictors,target)\n",
    "lm1.score(predictors,target)"
   ]
  },
  {
   "cell_type": "code",
   "execution_count": null,
   "id": "cc455830-043b-4940-af68-854ef610181d",
   "metadata": {},
   "outputs": [],
   "source": [
    "# r2 .19\n",
    "\n",
    "# the question is --- is this better than the previous approach? ie the constant of proportionality\n",
    "# we already know it is better than always predicting the mean value"
   ]
  },
  {
   "cell_type": "code",
   "execution_count": 18,
   "id": "ee4cb0d0-19b2-4c63-997e-dae7712d3b32",
   "metadata": {},
   "outputs": [],
   "source": [
    "# calculate R squared for constant of proportionality \n",
    "# i need ground truth minimum_payments (known values of minimum payments) = y\n",
    "# i also need values of minimum_payments calculated using C*balance = y_hat\n",
    "# Rsquared(y,y_hat) -> we get out a value\n",
    "\n",
    "# target\n",
    "predicted_minimum_payments_using_cop = C*df.loc[(~df['minimum_payments'].isna()) & (~df['credit_limit'].isna()),'balance']"
   ]
  },
  {
   "cell_type": "code",
   "execution_count": 19,
   "id": "537be73b-b6af-4487-a7e2-8330bab8134e",
   "metadata": {},
   "outputs": [
    {
     "data": {
      "text/plain": [
       "0.1509017635738128"
      ]
     },
     "execution_count": 19,
     "metadata": {},
     "output_type": "execute_result"
    }
   ],
   "source": [
    "# r2_score(y_true, y_pred,\n",
    "from sklearn.metrics import r2_score\n",
    "r2_score(target,predicted_minimum_payments_using_cop)"
   ]
  },
  {
   "cell_type": "code",
   "execution_count": 25,
   "id": "f60db53f-5960-4de7-bf09-90f9424e0820",
   "metadata": {},
   "outputs": [
    {
     "data": {
      "text/plain": [
       "array(['balance', 'balance_frequency', 'purchases', 'oneoff_purchases',\n",
       "       'installments_purchases', 'cash_advance', 'purchases_frequency',\n",
       "       'oneoff_purchases_frequency', 'purchases_installments_frequency',\n",
       "       'cash_advance_frequency', 'cash_advance_trx', 'purchases_trx',\n",
       "       'credit_limit', 'payments', 'prc_full_payment', 'tenure'],\n",
       "      dtype=object)"
      ]
     },
     "execution_count": 25,
     "metadata": {},
     "output_type": "execute_result"
    }
   ],
   "source": [
    "# it seems the regression is a better imputation strategy\n",
    "\n",
    "# we need to now generate predicted values of minimum_payments for the cases where minimum_payments is null using the regression\n",
    "lm1.feature_names_in_"
   ]
  },
  {
   "cell_type": "code",
   "execution_count": 24,
   "id": "27c5f4cd-6034-427b-97bc-559351751fbb",
   "metadata": {},
   "outputs": [
    {
     "data": {
      "text/plain": [
       "17"
      ]
     },
     "execution_count": 24,
     "metadata": {},
     "output_type": "execute_result"
    }
   ],
   "source": [
    "df.shape[1]"
   ]
  },
  {
   "cell_type": "code",
   "execution_count": 26,
   "id": "9c9d40cf-8816-4c8d-8deb-9db53c882127",
   "metadata": {},
   "outputs": [
    {
     "name": "stdout",
     "output_type": "stream",
     "text": [
      "<class 'pandas.core.frame.DataFrame'>\n",
      "Index: 313 entries, C10004 to C19187\n",
      "Data columns (total 16 columns):\n",
      " #   Column                            Non-Null Count  Dtype  \n",
      "---  ------                            --------------  -----  \n",
      " 0   balance                           313 non-null    float64\n",
      " 1   balance_frequency                 313 non-null    float64\n",
      " 2   purchases                         313 non-null    float64\n",
      " 3   oneoff_purchases                  313 non-null    float64\n",
      " 4   installments_purchases            313 non-null    float64\n",
      " 5   cash_advance                      313 non-null    float64\n",
      " 6   purchases_frequency               313 non-null    float64\n",
      " 7   oneoff_purchases_frequency        313 non-null    float64\n",
      " 8   purchases_installments_frequency  313 non-null    float64\n",
      " 9   cash_advance_frequency            313 non-null    float64\n",
      " 10  cash_advance_trx                  313 non-null    int64  \n",
      " 11  purchases_trx                     313 non-null    int64  \n",
      " 12  credit_limit                      313 non-null    float64\n",
      " 13  payments                          313 non-null    float64\n",
      " 14  prc_full_payment                  313 non-null    float64\n",
      " 15  tenure                            313 non-null    int64  \n",
      "dtypes: float64(13), int64(3)\n",
      "memory usage: 41.6+ KB\n"
     ]
    }
   ],
   "source": [
    "# create predictor matrix (table) by filtering data for cases where minimum_payments is null\n",
    "predictors_imputation = df.loc[df['minimum_payments'].isna(),:].drop(columns = ['minimum_payments'])\n",
    "predictors_imputation.info()\n",
    "# drop minimum_payments column\n",
    "# generate predictions"
   ]
  },
  {
   "cell_type": "code",
   "execution_count": 27,
   "id": "1343aea0-44e8-4d26-9991-aa73a846cc82",
   "metadata": {},
   "outputs": [],
   "source": [
    "imputed_minimum_payments_using_lm = lm1.predict(predictors_imputation)"
   ]
  },
  {
   "cell_type": "code",
   "execution_count": 29,
   "id": "bc868e46-0713-4187-9278-347f3c00382b",
   "metadata": {},
   "outputs": [
    {
     "data": {
      "text/plain": [
       "(313,)"
      ]
     },
     "execution_count": 29,
     "metadata": {},
     "output_type": "execute_result"
    }
   ],
   "source": [
    "imputed_minimum_payments_using_lm.shape"
   ]
  },
  {
   "cell_type": "code",
   "execution_count": 31,
   "id": "1d870949-79e5-49c5-9524-d5b1e55d5c29",
   "metadata": {},
   "outputs": [],
   "source": [
    "# overwrite the nulls in df with these 313 values\n",
    "df.loc[df['minimum_payments'].isna(),'minimum_payments'] = imputed_minimum_payments_using_lm"
   ]
  },
  {
   "cell_type": "code",
   "execution_count": 32,
   "id": "b70f1d49-f35a-4204-ae2d-617d0002ddca",
   "metadata": {},
   "outputs": [
    {
     "data": {
      "text/plain": [
       "balance                             0\n",
       "balance_frequency                   0\n",
       "purchases                           0\n",
       "oneoff_purchases                    0\n",
       "installments_purchases              0\n",
       "cash_advance                        0\n",
       "purchases_frequency                 0\n",
       "oneoff_purchases_frequency          0\n",
       "purchases_installments_frequency    0\n",
       "cash_advance_frequency              0\n",
       "cash_advance_trx                    0\n",
       "purchases_trx                       0\n",
       "credit_limit                        1\n",
       "payments                            0\n",
       "minimum_payments                    0\n",
       "prc_full_payment                    0\n",
       "tenure                              0\n",
       "dtype: int64"
      ]
     },
     "execution_count": 32,
     "metadata": {},
     "output_type": "execute_result"
    }
   ],
   "source": [
    "df.isna().sum()"
   ]
  },
  {
   "cell_type": "code",
   "execution_count": 33,
   "id": "c869168b-472c-4ea8-9e5e-bd037bd37c7c",
   "metadata": {},
   "outputs": [],
   "source": [
    "df.dropna(inplace=True)"
   ]
  },
  {
   "cell_type": "code",
   "execution_count": 34,
   "id": "856461a7-ae7c-48a6-a2ce-008310945a9f",
   "metadata": {},
   "outputs": [
    {
     "data": {
      "text/plain": [
       "balance                             0\n",
       "balance_frequency                   0\n",
       "purchases                           0\n",
       "oneoff_purchases                    0\n",
       "installments_purchases              0\n",
       "cash_advance                        0\n",
       "purchases_frequency                 0\n",
       "oneoff_purchases_frequency          0\n",
       "purchases_installments_frequency    0\n",
       "cash_advance_frequency              0\n",
       "cash_advance_trx                    0\n",
       "purchases_trx                       0\n",
       "credit_limit                        0\n",
       "payments                            0\n",
       "minimum_payments                    0\n",
       "prc_full_payment                    0\n",
       "tenure                              0\n",
       "dtype: int64"
      ]
     },
     "execution_count": 34,
     "metadata": {},
     "output_type": "execute_result"
    }
   ],
   "source": [
    "df.isna().sum()"
   ]
  },
  {
   "cell_type": "markdown",
   "id": "d363ebbf-22cb-4473-b941-4dea9b568c3c",
   "metadata": {},
   "source": [
    "### inspect distributions\n",
    "\n",
    "to-do\n",
    "\n",
    "1. visual inspection (make a bunch of histograms)\n",
    "2. note the presence of outliers\n",
    "3. we need to ensure the data is on the same scale.\n",
    "4. decide how to scale the data (normalize (0-1), standardize (map to normal distribution), ....)"
   ]
  },
  {
   "cell_type": "code",
   "execution_count": null,
   "id": "76f6b225-f4f6-480f-a913-1d0ba8f67c52",
   "metadata": {},
   "outputs": [],
   "source": []
  },
  {
   "cell_type": "code",
   "execution_count": null,
   "id": "9353221b-e9ef-447e-8c9e-b34e002fd2f9",
   "metadata": {},
   "outputs": [],
   "source": []
  },
  {
   "cell_type": "code",
   "execution_count": null,
   "id": "c7c53525-b5ae-4ed3-87a7-30b6fc18a8ea",
   "metadata": {},
   "outputs": [],
   "source": []
  },
  {
   "cell_type": "code",
   "execution_count": null,
   "id": "6162f87d-74d5-42f6-994e-a520a16bbd34",
   "metadata": {},
   "outputs": [],
   "source": []
  },
  {
   "cell_type": "code",
   "execution_count": null,
   "id": "ef678ae0-becf-433a-b42e-8a783ed14d0f",
   "metadata": {},
   "outputs": [],
   "source": []
  },
  {
   "cell_type": "code",
   "execution_count": null,
   "id": "9c4d9441-ca4d-4057-8a6d-06b8ede5ceef",
   "metadata": {},
   "outputs": [],
   "source": []
  },
  {
   "cell_type": "code",
   "execution_count": null,
   "id": "54c62cdc-3076-4dac-b084-e2507cada605",
   "metadata": {},
   "outputs": [],
   "source": []
  },
  {
   "cell_type": "code",
   "execution_count": null,
   "id": "60d01ff6-fae5-4f8e-a3f1-f4a38f01ff14",
   "metadata": {},
   "outputs": [],
   "source": []
  },
  {
   "cell_type": "code",
   "execution_count": null,
   "id": "cd38bca0-5033-402b-b833-3a14d579d356",
   "metadata": {},
   "outputs": [],
   "source": []
  }
 ],
 "metadata": {
  "kernelspec": {
   "display_name": "basic",
   "language": "python",
   "name": "basic"
  },
  "language_info": {
   "codemirror_mode": {
    "name": "ipython",
    "version": 3
   },
   "file_extension": ".py",
   "mimetype": "text/x-python",
   "name": "python",
   "nbconvert_exporter": "python",
   "pygments_lexer": "ipython3",
   "version": "3.11.7"
  }
 },
 "nbformat": 4,
 "nbformat_minor": 5
}
